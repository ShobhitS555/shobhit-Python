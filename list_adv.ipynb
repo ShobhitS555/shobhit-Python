{
 "cells": [
  {
   "cell_type": "markdown",
   "metadata": {},
   "source": [
    "18-feb-2022"
   ]
  },
  {
   "cell_type": "markdown",
   "metadata": {},
   "source": [
    "comprehension\n",
    "\n",
    "lambda,map,reduce"
   ]
  },
  {
   "cell_type": "code",
   "execution_count": 2,
   "metadata": {},
   "outputs": [
    {
     "name": "stdout",
     "output_type": "stream",
     "text": [
      "[11, 12, 13, 14, 15, 16, 17, 18, 19, 20]\n"
     ]
    }
   ],
   "source": [
    "#normal code\n",
    "x=[1,2,3,4,5,6,7,8,9,10]\n",
    "x10=[]\n",
    "for i in x:\n",
    "    out=i+10\n",
    "    x10.append(out)\n",
    "print(x10)\n"
   ]
  },
  {
   "cell_type": "markdown",
   "metadata": {},
   "source": [
    "coprehension syntax\n",
    "\n",
    ".simple\n",
    "\n",
    "new list=[operation loop]\n",
    "\n",
    "\n",
    "condition\n",
    "\n",
    "new list=[operation loop condition]\n"
   ]
  },
  {
   "cell_type": "code",
   "execution_count": 3,
   "metadata": {},
   "outputs": [
    {
     "name": "stdout",
     "output_type": "stream",
     "text": [
      "[-9, -8, -7, -6, -5, -4, -3, -2, -1, 0]\n"
     ]
    }
   ],
   "source": [
    "xinv10=[i-10 for i in x]\n",
    "print(xinv10)"
   ]
  },
  {
   "cell_type": "code",
   "execution_count": 8,
   "metadata": {},
   "outputs": [
    {
     "name": "stdout",
     "output_type": "stream",
     "text": [
      "[1, 4, 9, 16, 25, 36, 49, 64, 81, 100]\n"
     ]
    }
   ],
   "source": [
    "xsq=[i*i for i in x]\n",
    "print(xsq)"
   ]
  },
  {
   "cell_type": "code",
   "execution_count": 10,
   "metadata": {},
   "outputs": [
    {
     "name": "stdout",
     "output_type": "stream",
     "text": [
      "[4, 16, 36]\n"
     ]
    }
   ],
   "source": [
    "y=[1,2,3,4,5,6]\n",
    "ysqr_even=[]\n",
    "for i in y:\n",
    "    if i%2==0:\n",
    "        sqr=i**2\n",
    "        ysqr_even.append(sqr)\n",
    "print(ysqr_even)"
   ]
  },
  {
   "cell_type": "code",
   "execution_count": 14,
   "metadata": {},
   "outputs": [
    {
     "data": {
      "text/plain": [
       "[1, 27, 125]"
      ]
     },
     "execution_count": 14,
     "metadata": {},
     "output_type": "execute_result"
    }
   ],
   "source": [
    "ycube_odd=[i*i*i for i in y if i%2 !=0]# first way\n",
    "ycube_odd"
   ]
  },
  {
   "cell_type": "code",
   "execution_count": 13,
   "metadata": {},
   "outputs": [
    {
     "data": {
      "text/plain": [
       "[1, 27, 125]"
      ]
     },
     "execution_count": 13,
     "metadata": {},
     "output_type": "execute_result"
    }
   ],
   "source": [
    "ycube_odd=[i**3 for i in y if i%2 !=0]#second way\n",
    "ycube_odd"
   ]
  },
  {
   "cell_type": "code",
   "execution_count": 18,
   "metadata": {},
   "outputs": [
    {
     "name": "stdout",
     "output_type": "stream",
     "text": [
      "['stromblessed']\n",
      "['stromblessed', 'kholin']\n",
      "['stromblessed', 'kholin', 'dawar']\n"
     ]
    }
   ],
   "source": [
    "names=['kalandin stromblessed','adolin kholin','shallan dawar']\n",
    "surname=[]\n",
    "for name in names:\n",
    "    sn=name.split()[-1]\n",
    "    surname.append(sn)\n",
    "    print(surname)"
   ]
  },
  {
   "cell_type": "code",
   "execution_count": 19,
   "metadata": {},
   "outputs": [
    {
     "name": "stdout",
     "output_type": "stream",
     "text": [
      "['kalandin']\n",
      "['kalandin', 'adolin']\n",
      "['kalandin', 'adolin', 'shallan']\n"
     ]
    }
   ],
   "source": [
    "names=['kalandin stromblessed','adolin kholin','shallan dawar']\n",
    "surname=[]\n",
    "for name in names:\n",
    "    sn=name.split()[0]\n",
    "    surname.append(sn)\n",
    "    print(surname)"
   ]
  },
  {
   "cell_type": "code",
   "execution_count": 20,
   "metadata": {},
   "outputs": [
    {
     "name": "stdout",
     "output_type": "stream",
     "text": [
      "['stromblessed', 'kholin', 'dawar']\n"
     ]
    }
   ],
   "source": [
    "firstname=[name.split()[-1] for name in names]\n",
    "print(firstname)"
   ]
  },
  {
   "cell_type": "code",
   "execution_count": 21,
   "metadata": {},
   "outputs": [
    {
     "name": "stdout",
     "output_type": "stream",
     "text": [
      "['kalandin', 'adolin', 'shallan']\n"
     ]
    }
   ],
   "source": [
    "firstname=[name.split()[0] for name in names]\n",
    "print(firstname)"
   ]
  },
  {
   "cell_type": "code",
   "execution_count": 24,
   "metadata": {},
   "outputs": [],
   "source": [
    "emps=['suraj','ali','mohan','vijay','sujay','murtuja','elina']"
   ]
  },
  {
   "cell_type": "code",
   "execution_count": 30,
   "metadata": {},
   "outputs": [
    {
     "name": "stdout",
     "output_type": "stream",
     "text": [
      "['mohan', 'elina']\n"
     ]
    }
   ],
   "source": [
    "emps_a=[]\n",
    "for name in emps:\n",
    "    if 'n'in name:\n",
    "        emps_a.append(name)\n",
    "print(emps_a)"
   ]
  },
  {
   "cell_type": "code",
   "execution_count": 31,
   "metadata": {},
   "outputs": [],
   "source": [
    "x=[1,2,3,4,5,6,7,8]\n",
    "y=[3,4,5,6,7,8,9,0]\n",
    "z=[]\n"
   ]
  },
  {
   "cell_type": "code",
   "execution_count": 37,
   "metadata": {},
   "outputs": [
    {
     "name": "stdout",
     "output_type": "stream",
     "text": [
      "[[1, 2, 3, 4, 5, 6, 7, 8], [3, 4, 5, 6, 7, 8, 9, 0]]\n"
     ]
    }
   ],
   "source": [
    "z=[x]+[y]\n",
    "print(z)"
   ]
  },
  {
   "cell_type": "code",
   "execution_count": 5,
   "metadata": {},
   "outputs": [
    {
     "name": "stdout",
     "output_type": "stream",
     "text": [
      "[4, 6, 8, 10, 12, 14, 16, 8]\n"
     ]
    }
   ],
   "source": [
    "x=[1,2,3,4,5,6,7,8]\n",
    "y=[3,4,5,6,7,8,9,0]\n",
    "z=[]\n",
    "for i,j in zip(x,y):\n",
    "    z.append(i+j)\n",
    "print(z)"
   ]
  },
  {
   "cell_type": "code",
   "execution_count": 6,
   "metadata": {},
   "outputs": [
    {
     "name": "stdout",
     "output_type": "stream",
     "text": [
      "[3, 8, 15, 24, 35, 48, 63, 0]\n"
     ]
    }
   ],
   "source": [
    "a=[i*j for i,j in zip(x,y)]\n",
    "print(a)"
   ]
  },
  {
   "cell_type": "markdown",
   "metadata": {},
   "source": [
    "25-feb-2022"
   ]
  },
  {
   "cell_type": "code",
   "execution_count": 4,
   "metadata": {},
   "outputs": [
    {
     "name": "stdout",
     "output_type": "stream",
     "text": [
      "rohan has ifq of 70 in the age of 18\n",
      "mohan has ifq of 75 in the age of 19\n",
      "sohan has ifq of 60 in the age of 32\n"
     ]
    }
   ],
   "source": [
    "people=['rohan','mohan','sohan']\n",
    "iq=[70,75,60]\n",
    "age=[18,19,32]\n",
    "for p,i,a in zip(people,iq,age):\n",
    "    print(f'{p} has ifq of {i} in the age of {a}')"
   ]
  }
 ],
 "metadata": {
  "interpreter": {
   "hash": "feb5410b972a84561cf38b0fe3aceb480d942002c0e798026e87d39a79c73f3a"
  },
  "kernelspec": {
   "display_name": "Python 3.9.7 64-bit",
   "language": "python",
   "name": "python3"
  },
  "language_info": {
   "codemirror_mode": {
    "name": "ipython",
    "version": 3
   },
   "file_extension": ".py",
   "mimetype": "text/x-python",
   "name": "python",
   "nbconvert_exporter": "python",
   "pygments_lexer": "ipython3",
   "version": "3.9.7"
  },
  "orig_nbformat": 4
 },
 "nbformat": 4,
 "nbformat_minor": 2
}
