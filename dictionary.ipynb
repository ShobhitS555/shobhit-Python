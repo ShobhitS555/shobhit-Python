{
 "cells": [
  {
   "cell_type": "markdown",
   "metadata": {},
   "source": [
    "# dictionary\n",
    "\n",
    "-dictionary is ordered and unidexed\n",
    "\n",
    "-dictionary is s 'key:value'pair system\n",
    "\n",
    "-the keys are always unique for a dict\n",
    "\n",
    "-the keys are only immutable type (number,string,tuple)\n",
    "\n",
    "-the values can any type\n",
    "\n",
    "-represented by{}\n",
    "\n",
    "-dictionary is mutable"
   ]
  },
  {
   "cell_type": "code",
   "execution_count": 2,
   "metadata": {},
   "outputs": [],
   "source": [
    "x=['alex','mason',22,'34567890',True,False]#unexplained\n",
    "std_mark_list=['ravi',90,'kavi',30,'jahnvi',50,'tanvi',20]#unlinked"
   ]
  },
  {
   "cell_type": "code",
   "execution_count": 6,
   "metadata": {},
   "outputs": [
    {
     "name": "stdout",
     "output_type": "stream",
     "text": [
      "{'firstname': 'alex', 'lastname': 'mason', 'age': 22, 'phone': '3456789', 'working': True, 'married': False}\n"
     ]
    }
   ],
   "source": [
    "dict_x={\n",
    "    'firstname':'alex',\n",
    "    'lastname':'mason',\n",
    "    'age':22,\n",
    "    'phone':'3456789',\n",
    "    'working':True,\n",
    "    'married':False\n",
    "    }\n",
    "print(dict_x)"
   ]
  },
  {
   "cell_type": "markdown",
   "metadata": {},
   "source": [
    "03-mar-2022"
   ]
  },
  {
   "cell_type": "code",
   "execution_count": 7,
   "metadata": {},
   "outputs": [],
   "source": [
    "report={'tanya':{\n",
    "    'eng':60,\n",
    "    'math':80,\n",
    "    'sci':100,\n",
    "},'saif':{\n",
    "    'eng':50,\n",
    "    'math':89,\n",
    "    'sci':40\n",
    "}}"
   ]
  },
  {
   "cell_type": "code",
   "execution_count": 8,
   "metadata": {},
   "outputs": [
    {
     "data": {
      "text/plain": [
       "{'tanya': {'eng': 60, 'math': 80, 'sci': 100},\n",
       " 'saif': {'eng': 50, 'math': 89, 'sci': 40}}"
      ]
     },
     "execution_count": 8,
     "metadata": {},
     "output_type": "execute_result"
    }
   ],
   "source": [
    "report"
   ]
  },
  {
   "cell_type": "code",
   "execution_count": 10,
   "metadata": {},
   "outputs": [],
   "source": [
    "dict_x['city']='lucknow'\n",
    "dict_x['state']='UP'"
   ]
  },
  {
   "cell_type": "code",
   "execution_count": 11,
   "metadata": {},
   "outputs": [
    {
     "data": {
      "text/plain": [
       "{'firstname': 'alex',\n",
       " 'lastname': 'mason',\n",
       " 'age': 22,\n",
       " 'phone': '3456789',\n",
       " 'working': True,\n",
       " 'married': False,\n",
       " 'city': 'lucknow',\n",
       " 'state': 'UP'}"
      ]
     },
     "execution_count": 11,
     "metadata": {},
     "output_type": "execute_result"
    }
   ],
   "source": [
    "dict_x"
   ]
  },
  {
   "cell_type": "markdown",
   "metadata": {},
   "source": [
    "updation"
   ]
  },
  {
   "cell_type": "code",
   "execution_count": 12,
   "metadata": {},
   "outputs": [],
   "source": [
    "dict_x['age']=20"
   ]
  },
  {
   "cell_type": "markdown",
   "metadata": {},
   "source": [
    "remove data"
   ]
  },
  {
   "cell_type": "code",
   "execution_count": 14,
   "metadata": {},
   "outputs": [
    {
     "data": {
      "text/plain": [
       "'lucknow'"
      ]
     },
     "execution_count": 14,
     "metadata": {},
     "output_type": "execute_result"
    }
   ],
   "source": [
    "dict_x.pop('city')"
   ]
  },
  {
   "cell_type": "code",
   "execution_count": 15,
   "metadata": {},
   "outputs": [
    {
     "data": {
      "text/plain": [
       "{'firstname': 'alex',\n",
       " 'lastname': 'mason',\n",
       " 'age': 20,\n",
       " 'phone': '3456789',\n",
       " 'working': True,\n",
       " 'married': False,\n",
       " 'state': 'UP'}"
      ]
     },
     "execution_count": 15,
     "metadata": {},
     "output_type": "execute_result"
    }
   ],
   "source": [
    "dict_x"
   ]
  },
  {
   "cell_type": "code",
   "execution_count": 17,
   "metadata": {},
   "outputs": [
    {
     "data": {
      "text/plain": [
       "('married', False)"
      ]
     },
     "execution_count": 17,
     "metadata": {},
     "output_type": "execute_result"
    }
   ],
   "source": [
    "dict_x.popitem()"
   ]
  },
  {
   "cell_type": "code",
   "execution_count": 20,
   "metadata": {},
   "outputs": [],
   "source": [
    "x={'a':'apple','b':'ball','c':'cat '}\n",
    "y={'d':'dog','e':'elephant','f':'fish'}\n",
    "x.update(y)"
   ]
  },
  {
   "cell_type": "code",
   "execution_count": 21,
   "metadata": {},
   "outputs": [
    {
     "data": {
      "text/plain": [
       "{'a': 'apple',\n",
       " 'b': 'ball',\n",
       " 'c': 'cat ',\n",
       " 'd': 'dog',\n",
       " 'e': 'elephant',\n",
       " 'f': 'fish'}"
      ]
     },
     "execution_count": 21,
     "metadata": {},
     "output_type": "execute_result"
    }
   ],
   "source": [
    "x"
   ]
  },
  {
   "cell_type": "markdown",
   "metadata": {},
   "source": [
    "list with dict"
   ]
  },
  {
   "cell_type": "code",
   "execution_count": 22,
   "metadata": {},
   "outputs": [
    {
     "name": "stdout",
     "output_type": "stream",
     "text": [
      "[{'a': 'apple', 'b': 'ball', 'c': 'cat '}, {'d': 'dog', 'e': 'elephant', 'f': 'fish'}, {'g': 'goat', 'h': 'horse', 'i': 'intence'}]\n"
     ]
    }
   ],
   "source": [
    "x={'a':'apple','b':'ball','c':'cat '}\n",
    "y={'d':'dog','e':'elephant','f':'fish'}\n",
    "z={'g':'goat','h':'horse','i':'intence'}\n",
    "abc=[x,y,z]\n",
    "print(abc)"
   ]
  },
  {
   "cell_type": "code",
   "execution_count": 29,
   "metadata": {},
   "outputs": [
    {
     "data": {
      "text/plain": [
       "[{'name': 'ravi', 'age': 30},\n",
       " {'name': 'kavi', 'age': 40},\n",
       " {'name': 'janhvi', 'age': 55},\n",
       " {'name': 'Tanvi', 'age': 44}]"
      ]
     },
     "execution_count": 29,
     "metadata": {},
     "output_type": "execute_result"
    }
   ],
   "source": [
    "data= [\n",
    "    {'name':'ravi','age':30},\n",
    "    {'name':'kavi','age':40},\n",
    "    {'name':'janhvi','age':55},\n",
    "    {'name':'Tanvi','age':44}\n",
    "]\n",
    "data"
   ]
  },
  {
   "cell_type": "code",
   "execution_count": 32,
   "metadata": {},
   "outputs": [
    {
     "data": {
      "text/plain": [
       "30"
      ]
     },
     "execution_count": 32,
     "metadata": {},
     "output_type": "execute_result"
    }
   ],
   "source": [
    "data[0]['age']"
   ]
  },
  {
   "cell_type": "code",
   "execution_count": 33,
   "metadata": {},
   "outputs": [
    {
     "data": {
      "text/plain": [
       "{'tanya': {'eng': 60, 'math': 80, 'sci': 100},\n",
       " 'saif': {'eng': 50, 'math': 89, 'sci': 40}}"
      ]
     },
     "execution_count": 33,
     "metadata": {},
     "output_type": "execute_result"
    }
   ],
   "source": [
    "report"
   ]
  },
  {
   "cell_type": "code",
   "execution_count": 37,
   "metadata": {},
   "outputs": [
    {
     "data": {
      "text/plain": [
       "89"
      ]
     },
     "execution_count": 37,
     "metadata": {},
     "output_type": "execute_result"
    }
   ],
   "source": [
    "report['saif']['math']"
   ]
  },
  {
   "cell_type": "markdown",
   "metadata": {},
   "source": [
    "traversal and looping"
   ]
  },
  {
   "cell_type": "code",
   "execution_count": 38,
   "metadata": {},
   "outputs": [
    {
     "data": {
      "text/plain": [
       "['tanya', 'saif']"
      ]
     },
     "execution_count": 38,
     "metadata": {},
     "output_type": "execute_result"
    }
   ],
   "source": [
    "list(report.keys())"
   ]
  },
  {
   "cell_type": "code",
   "execution_count": 39,
   "metadata": {},
   "outputs": [
    {
     "data": {
      "text/plain": [
       "[{'eng': 60, 'math': 80, 'sci': 100}, {'eng': 50, 'math': 89, 'sci': 40}]"
      ]
     },
     "execution_count": 39,
     "metadata": {},
     "output_type": "execute_result"
    }
   ],
   "source": [
    "list(report.values())"
   ]
  },
  {
   "cell_type": "code",
   "execution_count": 40,
   "metadata": {},
   "outputs": [
    {
     "data": {
      "text/plain": [
       "[('tanya', {'eng': 60, 'math': 80, 'sci': 100}),\n",
       " ('saif', {'eng': 50, 'math': 89, 'sci': 40})]"
      ]
     },
     "execution_count": 40,
     "metadata": {},
     "output_type": "execute_result"
    }
   ],
   "source": [
    "list(report.items())"
   ]
  },
  {
   "cell_type": "code",
   "execution_count": 43,
   "metadata": {},
   "outputs": [
    {
     "name": "stdout",
     "output_type": "stream",
     "text": [
      "firstname alex\n",
      "lastname mason\n",
      "age 20\n",
      "phone 3456789\n",
      "working True\n"
     ]
    }
   ],
   "source": [
    "# most useful\n",
    "for k,v in dict_x.items():\n",
    "    print(k,v)"
   ]
  },
  {
   "cell_type": "code",
   "execution_count": 44,
   "metadata": {},
   "outputs": [
    {
     "name": "stdout",
     "output_type": "stream",
     "text": [
      "firstname alex\n",
      "lastname mason\n",
      "age 20\n",
      "phone 3456789\n",
      "working True\n"
     ]
    }
   ],
   "source": [
    "for k in dict_x:\n",
    "    print(k,dict_x[k])"
   ]
  },
  {
   "cell_type": "markdown",
   "metadata": {},
   "source": [
    "wap to add details of five employee in dict.the details are as follws\n",
    "the display there details after incrementing their slsry by 9%\n",
    "-"
   ]
  },
  {
   "cell_type": "code",
   "execution_count": 63,
   "metadata": {},
   "outputs": [
    {
     "data": {
      "text/plain": [
       "[{'Ep': '1',\n",
       "  'first_name0': 'Adarsh',\n",
       "  'last_name': 'Tripathi',\n",
       "  'empid': '5673442',\n",
       "  'designation': 'tse',\n",
       "  'doj': '22-09-2019',\n",
       "  'base_salary': '300000/y',\n",
       "  'department': 'it'},\n",
       " {'Ep': '2',\n",
       "  'first_name1': 'Shivam',\n",
       "  'last_name': 'Tripath',\n",
       "  'empid': '766556',\n",
       "  'designation': 'je',\n",
       "  'doj': 'soon',\n",
       "  'base_salary': '40000',\n",
       "  'department': 'it'}]"
      ]
     },
     "execution_count": 63,
     "metadata": {},
     "output_type": "execute_result"
    }
   ],
   "source": [
    "Details=[\n",
    "    {'Ep':'1','first_name0':'Adarsh','last_name':'Tripathi','empid':'5673442','designation':'tse','doj':'22-09-2019','base_salary':'300000/y','department':'it'},\n",
    "    {'Ep':'2','first_name1':'Shivam','last_name':'Tripath','empid':'766556','designation':'je','doj':'soon','base_salary':'40000','department':'it'},\n",
    "]\n",
    "Details"
   ]
  }
 ],
 "metadata": {
  "interpreter": {
   "hash": "b003d8754f68205f230b91d29752a0899194161977d5c87b83f80e078894fa96"
  },
  "kernelspec": {
   "display_name": "Python 3.9.5 ('base')",
   "language": "python",
   "name": "python3"
  },
  "language_info": {
   "codemirror_mode": {
    "name": "ipython",
    "version": 3
   },
   "file_extension": ".py",
   "mimetype": "text/x-python",
   "name": "python",
   "nbconvert_exporter": "python",
   "pygments_lexer": "ipython3",
   "version": "3.9.5"
  },
  "orig_nbformat": 4
 },
 "nbformat": 4,
 "nbformat_minor": 2
}
