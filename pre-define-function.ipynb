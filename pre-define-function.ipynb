{
 "cells": [
  {
   "cell_type": "code",
   "execution_count": 1,
   "metadata": {},
   "outputs": [],
   "source": [
    "import os"
   ]
  },
  {
   "cell_type": "code",
   "execution_count": 3,
   "metadata": {},
   "outputs": [
    {
     "ename": "ModuleNotFoundError",
     "evalue": "No module named 'pandas'",
     "output_type": "error",
     "traceback": [
      "\u001b[1;31m---------------------------------------------------------------------------\u001b[0m",
      "\u001b[1;31mModuleNotFoundError\u001b[0m                       Traceback (most recent call last)",
      "\u001b[1;32me:\\adarshpython\\pre-define-function.ipynb Cell 2'\u001b[0m in \u001b[0;36m<module>\u001b[1;34m\u001b[0m\n\u001b[1;32m----> <a href='vscode-notebook-cell:/e%3A/adarshpython/pre-define-function.ipynb#ch0000001?line=0'>1</a>\u001b[0m \u001b[39mimport\u001b[39;00m \u001b[39mpandas\u001b[39;00m\n",
      "\u001b[1;31mModuleNotFoundError\u001b[0m: No module named 'pandas'"
     ]
    }
   ],
   "source": [
    "import pandas"
   ]
  },
  {
   "cell_type": "code",
   "execution_count": 4,
   "metadata": {},
   "outputs": [
    {
     "data": {
      "text/plain": [
       "'e:\\\\adarshpython'"
      ]
     },
     "execution_count": 4,
     "metadata": {},
     "output_type": "execute_result"
    }
   ],
   "source": [
    "os.getcwd()# display the current working directory"
   ]
  },
  {
   "cell_type": "code",
   "execution_count": 5,
   "metadata": {},
   "outputs": [],
   "source": [
    "os.mkdir('codes')#creat directory"
   ]
  },
  {
   "cell_type": "code",
   "execution_count": 6,
   "metadata": {},
   "outputs": [
    {
     "name": "stdout",
     "output_type": "stream",
     "text": [
      "the directory exists\n"
     ]
    }
   ],
   "source": [
    "if os.path.exists('codes'):\n",
    "    print('the directory exists')\n",
    "else:\n",
    "    os.mkdir('codes')"
   ]
  },
  {
   "cell_type": "code",
   "execution_count": 8,
   "metadata": {},
   "outputs": [
    {
     "data": {
      "text/plain": [
       "['basics.ipynb',\n",
       " 'example.py',\n",
       " 'filehandling.py',\n",
       " 'function.py',\n",
       " 'my file2.txt',\n",
       " 'myfile .txt',\n",
       " 'myfile.txt',\n",
       " 'python',\n",
       " 'run.py',\n",
       " 'utility.py',\n",
       " '__pycache__',\n",
       " 'list.ipynb',\n",
       " '.git',\n",
       " '.gitattributes',\n",
       " 'list_adv.ipynb',\n",
       " 'practice.ipynb',\n",
       " '.ipynb_checkpoints',\n",
       " 'tuple.ipynb',\n",
       " 'sets.ipynb',\n",
       " 'dictionary.ipynb',\n",
       " 'pre-define-function.ipynb',\n",
       " 'codes']"
      ]
     },
     "execution_count": 8,
     "metadata": {},
     "output_type": "execute_result"
    }
   ],
   "source": [
    "os.listdir()"
   ]
  },
  {
   "cell_type": "code",
   "execution_count": 11,
   "metadata": {},
   "outputs": [
    {
     "name": "stdout",
     "output_type": "stream",
     "text": [
      "121items in the directory\n",
      "['addins', 'appcompat', 'apppatch', 'AppReadiness', 'assembly', 'bcastdvr', 'bfsvc.exe', 'Boot', 'bootstat.dat', 'Branding', 'BrowserCore', 'CbsTemp', 'comsetup.log', 'Containers', 'Core.xml', 'CoreSingleLanguage.xml', 'CSUP.txt', 'Cursors', 'debug', 'diagerr.xml', 'diagnostics', 'DiagTrack', 'diagwrn.xml', 'DigitalLocker', 'Downloaded Program Files', 'DtcInstall.log', 'ELAMBKUP', 'en-GB', 'en-US', 'explorer.exe', 'Fonts', 'GameBarPresenceWriter', 'Globalization', 'Help', 'HelpPane.exe', 'hh.exe', 'HoloShell', 'HP', 'HPCUST1.exe', 'HPCUST2.exe', 'IdentityCRL', 'IME', 'ImmersiveControlPanel', 'INF', 'InputMethod', 'Installer', 'L2Schemas', 'LanguageOverlayCache', 'LiveKernelReports', 'Logs', 'Media', 'mib.bin', 'Microsoft.NET', 'Migration', 'ModemLogs', 'notepad.exe', 'OCR', 'Offline Web Pages', 'Panther', 'Performance', 'PFRO.log', 'PLA', 'PolicyDefinitions', 'Prefetch', 'PrintDialog', 'progress.ini', 'Provisioning', 'regedit.exe', 'Registration', 'rescache', 'Resources', 'RtkBtManServ.exe', 'rtl8723b_mp_chip_bt40_fw_asic_rom_patch_new', 'rtl8723b_mp_chip_bt40_fw_asic_rom_patch_new_s1', 'rtl8723d_mp_chip_bt40_fw_asic_rom_patch_new', 'rtl8821c_mp_chip_bt40_fw_asic_rom_patch_new', 'rtl8822b_mp_chip_bt40_fw_asic_rom_patch_new', 'rtl8822c_mp_chip_bt40_fw_asic_rom_patch_new', 'rtl8852a_mp_chip_bt40_fw_asic_rom_patch_new', 'SchCache', 'schemas', 'security', 'ServiceProfiles', 'ServiceState', 'servicing', 'Setup', 'setupact.log', 'setuperr.log', 'ShellComponents', 'ShellExperiences', 'SKB', 'SoftwareDistribution', 'Speech', 'Speech_OneCore', 'splwow64.exe', 'System', 'system.ini', 'System32', 'SystemApps', 'SystemResources', 'SystemTemp', 'SysWOW64', 'TAPI', 'Tasks', 'Temp', 'TextInput', 'tracing', 'twain_32', 'twain_32.dll', 'UUS', 'Vss', 'WaaS', 'Web', 'win.ini', 'WindowsShell.Manifest', 'WindowsUpdate.log', 'winhlp32.exe', 'WinSxS', 'WMSysPr9.prx', 'write.exe', 'WUModels']\n"
     ]
    }
   ],
   "source": [
    "windows_content=os.listdir('c:/windows')\n",
    "print(f'{len(windows_content)}items in the directory')\n",
    "print(windows_content)"
   ]
  },
  {
   "cell_type": "code",
   "execution_count": 22,
   "metadata": {},
   "outputs": [
    {
     "name": "stdout",
     "output_type": "stream",
     "text": [
      "['desktop.ini', 'Screenshot (10).png', 'Screenshot (11).png', 'Screenshot (12).png', 'Screenshot (13).png', 'Screenshot (14).png', 'Screenshot (15).png', 'Screenshot (16).png', 'Screenshot (17).png', 'Screenshot (18).png', 'Screenshot (19).png', 'Screenshot (20).png', 'Screenshot (21).png', 'Screenshot (22).png', 'Screenshot (23).png', 'Screenshot (24).png', 'Screenshot (25).png', 'Screenshot (26).png', 'Screenshot (27).png', 'Screenshot (28).png', 'Screenshot (29).png', 'Screenshot (3).png', 'Screenshot (30).png', 'Screenshot (31).png', 'Screenshot (32).png', 'Screenshot (33).png', 'Screenshot (34).png', 'Screenshot (35).png', 'Screenshot (36).png', 'Screenshot (37).png', 'Screenshot (38).png', 'Screenshot (39).png', 'Screenshot (4).png', 'Screenshot (40).png', 'Screenshot (41).png', 'Screenshot (42).png', 'Screenshot (43).png', 'Screenshot (44).png', 'Screenshot (45).png', 'Screenshot (46).png', 'Screenshot (47).png', 'Screenshot (48).png', 'Screenshot (49).png', 'Screenshot (5).png', 'Screenshot (50).png', 'Screenshot (51).png', 'Screenshot (52).png', 'Screenshot (53).png', 'Screenshot (54).png', 'Screenshot (55).png', 'Screenshot (56).png', 'Screenshot (57).png', 'Screenshot (58).png', 'Screenshot (59).png', 'Screenshot (6).png', 'Screenshot (60).png', 'Screenshot (61).png', 'Screenshot (62).png', 'Screenshot (63).png', 'Screenshot (64).png', 'Screenshot (65).png', 'Screenshot (66).png', 'Screenshot (7).png', 'Screenshot (8).png', 'Screenshot (9).png']\n"
     ]
    }
   ],
   "source": [
    "images=os.listdir('C:/Users/Shobhit Singh/Pictures/Screenshots')\n",
    "print(images)"
   ]
  },
  {
   "cell_type": "code",
   "execution_count": 20,
   "metadata": {},
   "outputs": [
    {
     "data": {
      "text/plain": [
       "('desktop', '.ini')"
      ]
     },
     "execution_count": 20,
     "metadata": {},
     "output_type": "execute_result"
    }
   ],
   "source": [
    "os.path.splitext(images[0])"
   ]
  },
  {
   "cell_type": "code",
   "execution_count": 23,
   "metadata": {},
   "outputs": [
    {
     "name": "stdout",
     "output_type": "stream",
     "text": [
      "['Screenshot (10).png', 'Screenshot (11).png', 'Screenshot (12).png', 'Screenshot (13).png', 'Screenshot (14).png', 'Screenshot (15).png', 'Screenshot (16).png', 'Screenshot (17).png', 'Screenshot (18).png', 'Screenshot (19).png', 'Screenshot (20).png', 'Screenshot (21).png', 'Screenshot (22).png', 'Screenshot (23).png', 'Screenshot (24).png', 'Screenshot (25).png', 'Screenshot (26).png', 'Screenshot (27).png', 'Screenshot (28).png', 'Screenshot (29).png', 'Screenshot (3).png', 'Screenshot (30).png', 'Screenshot (31).png', 'Screenshot (32).png', 'Screenshot (33).png', 'Screenshot (34).png', 'Screenshot (35).png', 'Screenshot (36).png', 'Screenshot (37).png', 'Screenshot (38).png', 'Screenshot (39).png', 'Screenshot (4).png', 'Screenshot (40).png', 'Screenshot (41).png', 'Screenshot (42).png', 'Screenshot (43).png', 'Screenshot (44).png', 'Screenshot (45).png', 'Screenshot (46).png', 'Screenshot (47).png', 'Screenshot (48).png', 'Screenshot (49).png', 'Screenshot (5).png', 'Screenshot (50).png', 'Screenshot (51).png', 'Screenshot (52).png', 'Screenshot (53).png', 'Screenshot (54).png', 'Screenshot (55).png', 'Screenshot (56).png', 'Screenshot (57).png', 'Screenshot (58).png', 'Screenshot (59).png', 'Screenshot (6).png', 'Screenshot (60).png', 'Screenshot (61).png', 'Screenshot (62).png', 'Screenshot (63).png', 'Screenshot (64).png', 'Screenshot (65).png', 'Screenshot (66).png', 'Screenshot (7).png', 'Screenshot (8).png', 'Screenshot (9).png']\n"
     ]
    }
   ],
   "source": [
    "png_images=[file for file in images if file.endswith('.png')]\n",
    "print(png_images)"
   ]
  },
  {
   "cell_type": "code",
   "execution_count": 28,
   "metadata": {},
   "outputs": [
    {
     "data": {
      "text/plain": [
       "<Response [200]>"
      ]
     },
     "execution_count": 28,
     "metadata": {},
     "output_type": "execute_result"
    }
   ],
   "source": [
    "import requests\n",
    "page=requests.get('https://www.omegle.com/')\n",
    "page"
   ]
  },
  {
   "cell_type": "code",
   "execution_count": 29,
   "metadata": {},
   "outputs": [
    {
     "data": {
      "text/plain": [
       "'<!doctype html>\\n<html itemscope itemtype=\"http://schema.org/Product\">\\n<head>\\n<meta charset=\"utf-8\">\\n<title>Omegle: Talk to strangers!</title>\\n<meta http-equiv=\"X-UA-Compatible\" content=\"IE=edge\">\\n<script>var IS_MOBILE = /mobile|kindle|silk\\\\/|symbian|nokia|android|nintendobrowser/i.test(navigator.userAgent);</script>\\n<meta name=\"viewport\" content=\"user-scalable=no, initial-scale=1.0, width=device-width, maximum-scale=1.0, minimal-ui\">\\n<meta name=\"apple-mobile-web-app-capable\" content=\"yes\">\\n<link rel=\"apple-touch-icon\" href=\"/static/appletouchicon.png\">\\n<script type=\"text/javascript\">\\n        if (top.location != location) {\\n            top.location.href = document.location.href;\\n        }\\n        </script>\\n<script>\\n        if (IS_MOBILE) {\\n            document.write(\\'<link type=\"text/css\" rel=\"stylesheet\" href=\"/static/mobile.css?79\">\\');\\n        } else {\\n            document.write(\\'<link type=\"text/css\" rel=\"stylesheet\" href=\"/static/style.css?105\">\\');\\n        }\\n\\n        </script>\\n<script>\\n            var origBind = Function.prototype.bind;\\n        </script>\\n<script src=\"//ajax.googleapis.com/ajax/libs/mootools/1.2.6/mootools-yui-compressed.js\" type=\"text/javascript\"></script>\\n<script>\\n            Function.prototype.bind = origBind;\\n        </script>\\n<script>\\n            document.write(\\'<script src=\"/static/omegle.js?659\" type=\"text/javascript\" charset=\"utf-8\"><\\\\/script>\\');\\n        </script>\\n<script type=\"text/javascript\" src=\"https://www.google.com/jsapi\"></script>\\n<script>function recaptchaOnLoad() {}</script>\\n<script src=\"https://www.google.com/recaptcha/api.js?onload=recaptchaOnLoad&render=explicit\" async defer></script>\\n<meta property=\"fb:app_id\" content=\"372387627273\">\\n<meta property=\"og:type\" content=\"website\">\\n<meta property=\"og:title\" content=\"Omegle: Talk to strangers!\">\\n<meta property=\"og:description\" content=\"Your friends are boring. Strangers are better.\">\\n<meta property=\"og:url\" content=\"http://www.omegle.com/\">\\n<meta property=\"og:image\" content=\"http://www.omegle.com/static/icon.png\">\\n<meta property=\"og:site_name\" content=\"Omegle\">\\n<meta itemprop=\"name\" content=\"Omegle: Talk to strangers!\">\\n<meta itemprop=\"description\" content=\"Omegle is a great place to meet new friends. When you use Omegle, we pick another user at random and let you have a one-on-one chat with each other.\">\\n<meta itemprop=\"image\" content=\"http://www.omegle.com/static/logo.png\">\\n<link rel=\"icon\" type=\"image/png\" href=\"/static/favicon.png\">\\n<link rel=\"canonical\" href=\"http://www.omegle.com/\">\\n<meta name=\"description\" content=\"The Internet is full of cool people; Omegle lets you meet them. When you use Omegle, we pick someone else at random so you can have a one-on-one chat.\">\\n<script>\\n        if (!IS_MOBILE) {\\n            document.write(\\'<meta name=\"google\" value=\"notranslate\" />\\');\\n        }\\n        </script>\\n<script type=\"text/javascript\">\\n            var _gaq = _gaq || [];\\n            _gaq.push([\\'_setAccount\\', \\'UA-1307731-4\\']);\\n            _gaq.push([\\'_gat._anonymizeIp\\']);\\n            _gaq.push([\\'_setDomainName\\', \\'.\\' + document.domain]);\\n            if (!(window.history && history.replaceState && history.state && history.state.videoStart)) {\\n                _gaq.push([\\'_trackPageview\\']);\\n            }\\n\\n            (function() {\\n              var ga = document.createElement(\\'script\\'); ga.type = \\'text/javascript\\'; ga.async = true;\\n              ga.src = (\\'https:\\' == document.location.protocol ? \\'https://ssl\\' : \\'http://www\\') + \\'.google-analytics.com/ga.js\\';\\n              var s = document.getElementsByTagName(\\'script\\')[0]; s.parentNode.insertBefore(ga, s);\\n            })();\\n        </script>\\n<style>\\n            @keyframes spin { 100% { transform: rotate3d(1, 5, 1, 360deg); } }\\n        </style>\\n</head>\\n<body>\\n<div id=\"fb-root\"></div>\\n<div id=\"header\">\\n<h1 id=\"logo\">\\n<script type=\"text/javascript\">\\n                (function() {\\n                    var fn = \\'/static/\\';\\n                    if (IS_MOBILE) {\\n                        fn += \\'dotcom\\';\\n                        var width = 277;\\n                    } else {\\n                        //if (window.CanvasRenderingContext2D) {\\n                        //    fn += \\'trans\\';\\n                        //}\\n                        var width = 236;\\n                    }\\n                    fn += \\'logomasked\\';\\n                    if (window.devicePixelRatio && window.devicePixelRatio > 1) {\\n                        fn += \\'@2x\\';\\n                    }\\n                    fn += \\'.png\\';\\n                    document.write(\\'<img src=\"\\' + fn + \\'\" width=\"\\' + width + \\'\" height=\"57\" alt=\"Omegle\">\\');\\n                })();\\n                </script>\\n<noscript><img src=\"/static/logomasked.png\" width=\"236\" height=\"57\" alt=\"Omegle\"></noscript>\\n</h1>\\n<h2 id=\"tagline\">\\n<script type=\"text/javascript\">\\n                if (window.devicePixelRatio && window.devicePixelRatio > 1) {\\n                    document.write(\\'<img src=\"/static/tagline@2x.png\" width=\"220\" height=\"57\" alt=\"Talk to strangers!\">\\');\\n                } else {\\n                    document.write(\\'<img src=\"/static/tagline.png\" width=\"220\" height=\"57\" alt=\"Talk to strangers!\">\\')\\n                }\\n                </script>\\n<noscript><img src=\"/static/tagline.png\" width=\"220\" height=\"57\" alt=\"Talk to strangers!\"></noscript>\\n</h2>\\n<div id=\"sharebuttons\" style=\"margin-top: -2px;\">\\n<a href=\"https://www.facebook.com/sharer/sharer.php?u=https%3A%2F%2FOmegle.com\" target=\"_blank\"><img src=\"/static/fbsharebtn.png\" width=\"64\" height=\"20\" alt=\"Share on FB\"></a>\\n<a href=\"http://twitter.com/intent/tweet?url=https%3A%2F%2FOmegle.com&text=Why+are+all+my+friends+so+boring%3F+I%27m+talking+to+strangers+on+Omegle+instead.\" target=\"_blank\"><img src=\"/static/tweetbtn.png\" width=\"61\" height=\"20\" alt=\"Tweet\"></a>\\n<div id=\"google_translate_upper_container\" style=\"display: -moz-inline-block; display: inline-block; zoom: 1; *display: inline;\"><div id=\"google_translate_wrapper\" style=\"display: -moz-inline-block; display: inline-block; zoom: 1; *display: inline;\"><div id=\"google_translate_element\" style=\"display: -moz-inline-block; display: inline-block; zoom: 1; *display: inline;\"></div></div></div>\\n</div>\\n<div id=\"onlinecount\"></div>\\n<script>\\n            if (IS_MOBILE) {\\n                $(\\'sharebuttons\\').dispose();\\n                $(\\'onlinecount\\').dispose();\\n            }\\n            </script>\\n</div>\\n<div id=\"intro\">\\n<p id=\"mobilesitenote\">\\nYou don\\'t need an app to use Omegle on your phone or tablet! The web site works great on mobile.\\n</p>\\n<script type=\"text/javascript\">\\n            if (!IS_MOBILE) {\\n                //document.write(\\'<div style=\"text-align:center\"><img src=\"/static/orangesareabadfruitdonteatthem.png\" alt=\"\" width=\"270\" height=\"100\"/></div>\\');\\n                document.write(\\'<div style=\"float:right; margin-left: 1em\"><img src=\"/static/standwithhk.jpeg\" alt=\"\" width=\"287\" height=\"150\"/></div>\\');\\n                //document.write(\\'<div style=\"font-family:\\\\\\'comic sans\\\\\\',\\\\\\'comic sans ms\\\\\\';font-size: 50px;text-align:center;font-weight:bold;/* transform: rotate3d(1,1,0,45deg); */animation: spin 4s linear infinite;\"><span style=\"color: #FF0000\">w</span><span style=\"color: #FF6D00\">h</span><span style=\"color: #FFDA00\">o</span> <span style=\"color: #B6FF00\">t</span><span style=\"color: #48FF00\">f</span> <span style=\"color: #00FF24\">i</span><span style=\"color: #00FF91\">s</span> <span style=\"color: #00FFFF\">s</span><span style=\"color: #0091FF\">t</span><span style=\"color: #0024FF\">a</span><span style=\"color: #4800FF\">n</span><span style=\"color: #B600FF\">?</span><span style=\"color: #FF00DA\">?</span><span style=\"color: #FF006D\">!</span></div>\\');\\n            }\\n            </script>\\n<div id=\"chatbtnwrapper\">\\n<script type=\"text/javascript\">\\n                if (IS_MOBILE) {\\n                    if (window.devicePixelRatio && window.devicePixelRatio > 1) {\\n                        document.write(\\'<img src=\"/static/chatbutton@2x.png\" width=\"200\" height=\"50\" alt=\"Start a chat\" id=\"chatbtn\">\\');\\n                    } else {\\n                        document.write(\\'<img src=\"/static/chatbutton.png\" width=\"200\" height=\"50\" alt=\"Start a chat\" id=\"chatbtn\">\\')\\n                    }\\n                }\\n                </script>\\n</div>\\n<div id=\"mobiletopicsettings\">\\n<h2 id=\"intoheader\">Meet strangers with your interests!</h2>\\n<div id=\"topicsettingscontainer\"></div>\\n</div>\\n<script>\\n            if (!IS_MOBILE) {\\n              $(\\'mobiletopicsettings\\').dispose();\\n            }\\n            </script>\\n\\n<script>\\n            if (IS_MOBILE) {\\n                $(\\'mobilesitenote\\').dispose();\\n            } else {\\n                //$(\\'mobileadwrapper2\\').dispose();\\n                $(\\'chatbtnwrapper\\').dispose();\\n            }\\n            </script>\\n<div id=\"introtext\">\\n<script>\\n            if (IS_MOBILE && /Android 4/.test(navigator.userAgent) && !/Chrom/.test(navigator.userAgent)) {\\n            //    document.write(\\'<p style=\"font-size:0.9em\"><strong>Note:</strong> Video chat available in Google Chrome.</p>\\');\\n            }\\n            </script>\\n<p>Omegle <i class=\"notranslate\">(oh&middot;meg&middot;ull) </i> is a great way to meet new friends, even while practicing social distancing. When you use Omegle, you are paired randomly with another person to talk one-on-one. If you prefer, you can add your interests and youâ\\x80\\x99ll be randomly paired with someone who selected some of the same interests.</p>\\n<p>To help you stay safe, chats are anonymous unless you tell someone who you are (not recommended!), and you can stop a chat at any time. See our <a href=\"/static/terms.html\" target=\"_blank\">Terms of Service</a> and <a href=\"/static/guidelines.html\" target=\"_blank\">Community Guidelines</a> for more info about the doâ\\x80\\x99s and donâ\\x80\\x99ts in using Omegle. Omegle video chat is moderated but no moderation is perfect. Users are solely responsible for their behavior while using Omegle.</p>\\n<p><strong>You must be 18+ or 13+ with parental permission and supervision to use Omegle.</strong> See Omegleâ\\x80\\x99s <a href=\"/static/terms.html\" target=\"_blank\">Terms of Service</a> for more info. Parental control protections that may assist parents are commercially available and you can find more info at <a href=\"https://www.connectsafely.org/controls/\" target=\"_blank\">https://www.connectsafely.org/controls/</a> as well as other sites.</p>\\n<p>Please leave Omegle and visit an <a href=\"https://wawadmin.omegle.com/redir/y?track=homepage\" id=\"adultalternative\" target=\"_blank\" onclick=\"return confirm(\\'YOU ARE LEAVING OMEGLE. This link will redirect you to a third-party website that is not owned or operated by Omegle. Omegle is not responsible for, and shall not be liable for, any of the content, products or services at the third-party website.\\\\n\\\\nThe third-party website contains adult content that is not appropriate for and shall not be accessed by persons under the age of 18 years old. By pressing OK, you acknowledge this age restriction and affirm that you are 18 years old or older.\\')\">adult site</a> instead if that\\'s what you\\'re looking for, and you are 18 or older.</p>\\n</div>\\n<div id=\"monitoringnotice\">\\n<h2><script>\\n            if (window.devicePixelRatio && window.devicePixelRatio > 1) {\\n                var exclamationImg = \\'<img src=\"/static/exclamationog@2x.png\" width=\"25\" height=\"25\" alt=\"\" style=\"vertical-align: top\">\\'\\n            } else {\\n                var exclamationImg = \\'<img src=\"/static/exclamationog.png\" width=\"25\" height=\"25\" alt=\"\" style=\"vertical-align: top\">\\';\\n            }\\n            </script>Video is monitored. Keep it clean<script>document.write(\\' \\' + exclamationImg);</script></h2>\\n</div>\\n<table id=\"chattypes\">\\n<tr id=\"chattypeheaderrow\">\\n<td id=\"intoheadercell\"><h2 id=\"intoheader\">What do you wanna talk about?</h2></td>\\n<td colspan=\"3\" id=\"startachatcell\"><h2 id=\"startachat\">Start chatting:</h2><div id=\"google_translate_lower_container\"></div></td>\\n</tr>\\n<tr>\\n<td id=\"topicsettingscell\" rowspan=\"3\">\\n<div id=\"topicsettingscontainer\"></div>\\n</td>\\n<td id=\"chattypetextcell\" style=\"height: 0\">\\n<script type=\"text/javascript\">\\n                        if (window.devicePixelRatio && window.devicePixelRatio > 1) {\\n                            document.write(\\'<img id=\"textbtn\" src=\"/static/textbtn@2x.png\" width=\"124\" height=\"50\" alt=\"Text chat\">\\');\\n                        } else {\\n                            document.write(\\'<img id=\"textbtn\" src=\"/static/textbtn.png\" width=\"124\" height=\"50\" alt=\"Text chat\">\\');\\n                        }\\n                        </script>\\n<noscript><img src=\"/static/textbtn.png\" width=\"124\" height=\"50\" alt=\"Text chat\"></noscript>\\n</td>\\n<td class=\"chattypeorcell\" style=\"height: 0\">or</td>\\n<td id=\"chattypevideocell\" style=\"height: 0\">\\n<script type=\"text/javascript\">\\n                        if (window.devicePixelRatio && window.devicePixelRatio > 1) {\\n                            document.write(\\'<img src=\"/static/videobtn-enabled@2x.png\" alt=\"Video chat\" id=\"videobtn\" width=\"124\" height=\"50\">\\');\\n                        } else {\\n                            document.write(\\'<img src=\"/static/videobtn-enabled.png\" alt=\"Video chat\" id=\"videobtn\" width=\"124\" height=\"50\">\\');\\n                        }\\n                        </script>\\n<noscript><img src=\"/static/videobtn-enabled.png\" alt=\"Video chat\" id=\"videobtn\" width=\"124\" height=\"50\"></noscript>\\n</td>\\n</tr>\\n<tr style=\"height: 100%\">\\n<td id=\"textbtnstatus\"></td>\\n<td></td>\\n<td id=\"videobtnstatus\"></td>\\n</tr>\\n<tr>\\n<td colspan=\"3\" style=\"height: 100%\"></td>\\n</tr>\\n</table>\\n<script>\\n            if (IS_MOBILE) {\\n                $(\\'chattypes\\').dispose();\\n            }\\n            </script>\\n<script>\\n            if (IS_MOBILE) {\\n                $(\\'monitoringnotice\\').dispose();\\n            } else {\\n                $(\\'tryspymode\\').setStyle(\\'display\\', \\'none\\');\\n//                $(\\'mobiletopicsettings\\').dispose();\\n            }\\n            </script>\\n</div>\\n<div id=\"footer\">\\n<div id=\"feedback\">\\n\\n<div style=\"font-size: 0.75em; line-height: 1; color: #555; text-align: center\">\\n<p>&copy; Omegle.com LLC &bull; <a href=\"/static/terms.html\" target=\"_blank\">Terms of Service</a> &bull; <a href=\"/static/privacy.html\" target=\"_blank\">Privacy Policy</a> &bull; <a href=\"/static/guidelines.html\" target=\"_blank\">Community Guidelines</a></p>\\n</div>\\n\\n</div>\\n</div>\\n<script>\\n        basicReady();\\n        </script>\\n<!--[if gt IE 8]><!-->\\n<script>\\n        function googleTranslateElementInit() {\\n          googTr = new google.translate.TranslateElement({\\n            pageLanguage: \\'en\\',\\n            multilanguagePage: true,\\n            gaTrack: true,\\n            gaId: \\'UA-1307731-4\\',\\n            layout: google.translate.TranslateElement.InlineLayout.SIMPLE\\n          }, \\'google_translate_element\\');\\n          if (typeof(googleTranslateElementFullyLoaded) !== \\'undefined\\') {\\n              setTimeout(googleTranslateElementFullyLoaded, 1000);\\n          }\\n        }\\n        </script><script src=\"//translate.google.com/translate_a/element.js?cb=googleTranslateElementInit\"></script>\\n<!--<![endif]-->\\n</body>\\n</html>\\n'"
      ]
     },
     "execution_count": 29,
     "metadata": {},
     "output_type": "execute_result"
    }
   ],
   "source": [
    "page.text"
   ]
  },
  {
   "cell_type": "markdown",
   "metadata": {},
   "source": [
    "07/03/2022"
   ]
  },
  {
   "cell_type": "code",
   "execution_count": 3,
   "metadata": {},
   "outputs": [],
   "source": [
    "import random"
   ]
  },
  {
   "cell_type": "code",
   "execution_count": 6,
   "metadata": {},
   "outputs": [
    {
     "data": {
      "text/plain": [
       "0.6238098502914001"
      ]
     },
     "execution_count": 6,
     "metadata": {},
     "output_type": "execute_result"
    }
   ],
   "source": [
    "random.random()"
   ]
  },
  {
   "cell_type": "code",
   "execution_count": 7,
   "metadata": {},
   "outputs": [
    {
     "data": {
      "text/plain": [
       "1"
      ]
     },
     "execution_count": 7,
     "metadata": {},
     "output_type": "execute_result"
    }
   ],
   "source": [
    "random.randint(1,10)"
   ]
  },
  {
   "cell_type": "code",
   "execution_count": 9,
   "metadata": {},
   "outputs": [
    {
     "name": "stdout",
     "output_type": "stream",
     "text": [
      "try again,Loser\n"
     ]
    }
   ],
   "source": [
    "dice_value = random.randint(1,6)\n",
    "if dice_value==6:\n",
    "    print('you win')\n",
    "else:\n",
    "     print('try again,Loser')"
   ]
  },
  {
   "cell_type": "code",
   "execution_count": 11,
   "metadata": {},
   "outputs": [
    {
     "name": "stdout",
     "output_type": "stream",
     "text": [
      "try again Loser\n"
     ]
    }
   ],
   "source": [
    "print('you win') if random.randint(1,6)==6 else print('try again Loser')\n"
   ]
  },
  {
   "cell_type": "code",
   "execution_count": 13,
   "metadata": {},
   "outputs": [],
   "source": [
    "emojis = [\"🐄\",\"🐉\",\"🙂\"]"
   ]
  },
  {
   "cell_type": "code",
   "execution_count": 14,
   "metadata": {},
   "outputs": [
    {
     "name": "stdout",
     "output_type": "stream",
     "text": [
      "['🐉', '🐄', '🐄']\n"
     ]
    }
   ],
   "source": [
    "print(random.choices(emojis,k=3))"
   ]
  },
  {
   "cell_type": "code",
   "execution_count": 16,
   "metadata": {},
   "outputs": [],
   "source": [
    "import math "
   ]
  },
  {
   "cell_type": "code",
   "execution_count": 17,
   "metadata": {},
   "outputs": [
    {
     "data": {
      "text/plain": [
       "5.0"
      ]
     },
     "execution_count": 17,
     "metadata": {},
     "output_type": "execute_result"
    }
   ],
   "source": [
    "math.hypot(3,4)"
   ]
  },
  {
   "cell_type": "code",
   "execution_count": 18,
   "metadata": {},
   "outputs": [
    {
     "data": {
      "text/plain": [
       "1220136825991110068701238785423046926253574342803192842192413588385845373153881997605496447502203281863013616477148203584163378722078177200480785205159329285477907571939330603772960859086270429174547882424912726344305670173270769461062802310452644218878789465754777149863494367781037644274033827365397471386477878495438489595537537990423241061271326984327745715546309977202781014561081188373709531016356324432987029563896628911658974769572087926928871281780070265174507768410719624390394322536422605234945850129918571501248706961568141625359056693423813008856249246891564126775654481886506593847951775360894005745238940335798476363944905313062323749066445048824665075946735862074637925184200459369692981022263971952597190945217823331756934581508552332820762820023402626907898342451712006207714640979456116127629145951237229913340169552363850942885592018727433795173014586357570828355780158735432768888680120399882384702151467605445407663535984174430480128938313896881639487469658817504506926365338175055478128640000000000000000000000000000000000000000000000000000000000000000000000000000000000000000000000000000000000000000000000000000"
      ]
     },
     "execution_count": 18,
     "metadata": {},
     "output_type": "execute_result"
    }
   ],
   "source": [
    "math.factorial(500)"
   ]
  },
  {
   "cell_type": "code",
   "execution_count": 19,
   "metadata": {},
   "outputs": [
    {
     "data": {
      "text/plain": [
       "-0.5440211108893698"
      ]
     },
     "execution_count": 19,
     "metadata": {},
     "output_type": "execute_result"
    }
   ],
   "source": [
    "math.sin(10)"
   ]
  },
  {
   "cell_type": "code",
   "execution_count": 20,
   "metadata": {},
   "outputs": [
    {
     "data": {
      "text/plain": [
       "-0.9880316240928618"
      ]
     },
     "execution_count": 20,
     "metadata": {},
     "output_type": "execute_result"
    }
   ],
   "source": [
    "math.sin(30)"
   ]
  },
  {
   "cell_type": "code",
   "execution_count": 21,
   "metadata": {},
   "outputs": [
    {
     "data": {
      "text/plain": [
       "-56.61004208597725"
      ]
     },
     "execution_count": 21,
     "metadata": {},
     "output_type": "execute_result"
    }
   ],
   "source": [
    "math.degrees(math.sin(30))"
   ]
  },
  {
   "cell_type": "code",
   "execution_count": 23,
   "metadata": {},
   "outputs": [
    {
     "data": {
      "text/plain": [
       "148.4131591025766"
      ]
     },
     "execution_count": 23,
     "metadata": {},
     "output_type": "execute_result"
    }
   ],
   "source": [
    "math.exp(5)"
   ]
  },
  {
   "cell_type": "code",
   "execution_count": 26,
   "metadata": {},
   "outputs": [
    {
     "data": {
      "text/plain": [
       "1"
      ]
     },
     "execution_count": 26,
     "metadata": {},
     "output_type": "execute_result"
    }
   ],
   "source": [
    "math.gcd(2,3,5,17)"
   ]
  },
  {
   "cell_type": "code",
   "execution_count": 27,
   "metadata": {},
   "outputs": [
    {
     "name": "stdout",
     "output_type": "stream",
     "text": [
      "\u001b[1;31mSignature:\u001b[0m \u001b[0mmath\u001b[0m\u001b[1;33m.\u001b[0m\u001b[0msqrt\u001b[0m\u001b[1;33m(\u001b[0m\u001b[0mx\u001b[0m\u001b[1;33m,\u001b[0m \u001b[1;33m/\u001b[0m\u001b[1;33m)\u001b[0m\u001b[1;33m\u001b[0m\u001b[1;33m\u001b[0m\u001b[0m\n",
      "\u001b[1;31mDocstring:\u001b[0m Return the square root of x.\n",
      "\u001b[1;31mType:\u001b[0m      builtin_function_or_method\n"
     ]
    }
   ],
   "source": [
    "math.sqrt?"
   ]
  },
  {
   "cell_type": "code",
   "execution_count": 30,
   "metadata": {},
   "outputs": [],
   "source": [
    "from PIL import Image"
   ]
  },
  {
   "cell_type": "code",
   "execution_count": 43,
   "metadata": {},
   "outputs": [
    {
     "data": {
      "image/png": "[encoded data removed]",
      "text/plain": [
       "<PIL.Image.Image image mode=RGBA size=200x300 at 0x291BD59F700>"
      ]
     },
     "execution_count": 43,
     "metadata": {},
     "output_type": "execute_result"
    }
   ],
   "source": [
    "im = Image.open(\"C:/Users/Shobhit Singh/Pictures/Screenshots/Screenshot (3).png\").resize((200,300))\n",
    "im.rotate(0)"
   ]
  },
  {
   "cell_type": "code",
   "execution_count": 44,
   "metadata": {},
   "outputs": [],
   "source": [
    "from bs4 import BeautifulSoup\n",
    "import requests"
   ]
  },
  {
   "cell_type": "code",
   "execution_count": 47,
   "metadata": {},
   "outputs": [
    {
     "name": "stdout",
     "output_type": "stream",
     "text": [
      "         XDA Portal & Forums    \n",
      "  \n",
      "                 News  Forums   Forum HomeTop DevicesNew DevicesTopics Devices  More Topics FeaturesCustomize Best Posts  close  Forums Register for ForumsSet up a new account on the XDA Developers Forums  Login to ForumsSign in to the XDA Developers Forums XDA’s Apps Nav GesturesAdd swipe gestures to any Android, no root  One handed modeMake your phone easier to use with one hand, no root  XDA Forum AppThe best way to access XDA on your phone  Hyperion LauncherA sweet, feature-filled launcher with a beautiful UX. Sites we like  SwappaXDA’s official marketplace for buying and selling tech   PocketnowPremium videos Social                  ResourcesSubscribe to our NewsletterContactAboutTip Us             HUAWEI MateBook E review: An OLED Windows tablet made for media consumption          Samsung Galaxy S22 Ultra vs Galaxy S21 Ultra: What are the differences? Should you upgrade?          Hands-on with the Honor Magic V: Honor’s first foldable phone          These are the best of the best products at MWC 2022!          Samsung adds Galaxy S22 and Galaxy Tab S8 series devices to its Remote Test Lab In a bid to help app developers test their apps on its latest flagships, Samsung has now added the Galaxy S22 and Galaxy Tab S8 series devices to its Remote Test...  Pranob Mehrotra      03-07 6:45        Stable Android 12 update goes live for the Sony Xperia 5 II Hot on the heels of the Android 12 update for the Xperia 1 II, one more Sony phone — Xperia 5 II — is now picking up the latest version...  Kishan Vyas      03-07 6:28        How to enable call recording on the Samsung Galaxy S22 series Android users had to rely on third-party apps to record phone calls for the longest time. But these days, almost all Android OEMs natively offer call recording support on their...  Pranob Mehrotra      03-07 4:57        Google Play Store to soon get new Material You buttons Material You is Google’s latest design language for Android, Chrome OS, Wear OS, and beyond. Over the last months, we have seen Google slowly but steadily updating many of its...  Kishan Vyas      03-07 4:14        Realme might offer an 80W variant of the upcoming Realme GT Neo 3 Realme recently showcased its new 150W wired fast charging tech at MWC in Barcelona. Following the demonstration, the company confirmed that the new tech would debut with the upcoming Realme...  Pranob Mehrotra      03-07 3:45        Samsung releases kernel sources for the Galaxy S22 series After nearly everything was leaked about Samsung’s 2022 flagships, the Galaxy S22 series was finally made official last month. The phones represent the best of what the Korean OEM has...  Skanda Hazarika      03-07 3:00        WhatsApp may soon let you create polls, working on a dedicated “Community” tab Meta-owned WhatsApp hasn’t been shy of experimenting with new features as of late. The company has tested several new features over the past months as it aims to catch up...  Kishan Vyas      03-07 2:16        Android 12 Custom ROM List: Unofficially update your Android smartphone! Ever since Google announced the arrival of Android 12‘s stable release and dropped the source code to AOSP, the tinkering party is underway here at XDA. But unless you own...  Skanda Hazarika      03-07 12:45        Download: MIUI 12 stable update rolling out to several Xiaomi, Redmi and POCO devices MIUI 12 is the newest big release for Xiaomi smartphones, perhaps even bigger than an Android version jump. Features on Xiaomi devices are dictated more by their MIUI versions than...  Aamir Siddiqui      03-07 12:29        How to automatically unlock your Apple Watch with your iPhone One of the many reasons people invest in Apple products is how tightly connected they are. When you buy an iPhone or an Apple Watch, you know that these devices...  Mahmoud Itani      03-06 3:00        Where to buy a replacement S Pen for the Samsung Galaxy S22 Ultra? Samsung’s new Galaxy S22 Ultra is the most interesting phone out of the S22 lineup mainly because it’s the first Galaxy S phone with an integrated S Pen, marking it...  Karthik Iyer      03-05 3:00        How to stop Apple from collecting diagnostic and usage data on iPhone Apple is famous for its commitment to users’ privacy. When you buy an iPhone or a Mac, you know that you’re investing in products from a company that has pledged...  Mahmoud Itani      03-05 12:00 123…2,642  Subscribe to XDAReceive the freshest Android & development news right in your inbox!    Articles we recommend    POCO X4 Pro Hands-On: Main camera and display punch way above its €299 price      Xiaomi is known for many things, but two that are frequent points of discussion here at XDA are \"Xiaomi makes the best bang-for-dollar value of anyone\" and \"Xiaomi's constant rebranding…    Samsung Galaxy S22 Ultra Review: A phenomenal 5-star smartphone      The Galaxy S22 Ultra is Samsung’s newest flagship, but it’s more representative of the Galaxy Note than it is of the Galaxy S lineup. In many ways, the Galaxy S22…    Lenovo just announced its first Snapdragon-powered ThinkPad, the X13s      [sc name=\"mwc2022\" ][/sc]It's Mobile World Congress, and while there are lots of announcements, some are like clockwork. Once again, Lenovo is announcing a wide array of ThinkPads in Barcelona, including…    Hands on with the Samsung Galaxy Book 2 Pro series      Samsung has officially announced the Galaxy Book 2 series, not to be confused with the Snapdragon 850-powered Galaxy Book 2 from a few years ago. Consisting of the Galaxy Book…       XDA Developers was founded by developers, for developers. It is now a valuable resource for people who want to make the most of their mobile devices, from customizing the look and feel to adding new functionality.Are you a developer? | Terms of ServiceThis site is protected by reCAPTCHA and the Google Privacy Policy and Terms of Service apply.   More infoContactAdvertiseAboutSuggest ContentSecurityPrivacy PolicyChange Ad ConsentDo not sell my data  Useful LinksBest Android PhonesHow to RootBest LaptopsHow To Guides Copyright © XDAWe're Social    \n",
      "    \n",
      "    \n",
      "                    \n",
      "\n",
      "\n"
     ]
    }
   ],
   "source": [
    "page = requests.get('https://www.xda-developers.com/')\n",
    "soup = BeautifulSoup(page.text)\n",
    "print(soup.text)"
   ]
  },
  {
   "cell_type": "code",
   "execution_count": null,
   "metadata": {},
   "outputs": [],
   "source": []
  }
 ],
 "metadata": {
  "interpreter": {
   "hash": "0ce9cd577a0683ae692f019894db42524707c83b7e566b1e3386e8ebfb5a8afb"
  },
  "kernelspec": {
   "display_name": "Python 3.9.5 ('base')",
   "language": "python",
   "name": "python3"
  },
  "language_info": {
   "codemirror_mode": {
    "name": "ipython",
    "version": 3
   },
   "file_extension": ".py",
   "mimetype": "text/x-python",
   "name": "python",
   "nbconvert_exporter": "python",
   "pygments_lexer": "ipython3",
   "version": "3.9.5"
  },
  "orig_nbformat": 4
 },
 "nbformat": 4,
 "nbformat_minor": 2
}
